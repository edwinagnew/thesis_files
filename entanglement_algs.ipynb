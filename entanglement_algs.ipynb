{
 "cells": [
  {
   "cell_type": "code",
   "execution_count": 1,
   "id": "acute-terrorism",
   "metadata": {},
   "outputs": [],
   "source": [
    "from spiders import W, Z, ZBox, Id, X, Swap, H, boxes\n",
    "from pyfile import eq, eval"
   ]
  },
  {
   "cell_type": "markdown",
   "id": "intensive-governor",
   "metadata": {},
   "source": [
    "\n",
    "\n",
    "## Schmidt rank\n",
    "\n",
    "\n",
    "Will represent bipartite states as $(\\psi_{AB}, |A|, |B|)$ \n",
    "\n",
    "The following computes Schmidt rank using  $rank(\\rho^A)$"
   ]
  },
  {
   "cell_type": "code",
   "execution_count": 2,
   "id": "spiritual-disposition",
   "metadata": {},
   "outputs": [],
   "source": [
    "import numpy as np\n",
    "\n",
    "def basis(k, n, bra=False):\n",
    "    xs = np.zeros((2**n, 1))\n",
    "    xs[k][0] = 1\n",
    "    if bra:\n",
    "        return xs.transpose()\n",
    "    return xs\n",
    "    \n",
    "\n",
    "def partial_trace_B(state, n_A, n_B):\n",
    "    rho_state = state @ np.conj(state).T # |psi> -> |psi><psi|\n",
    "    t = np.zeros((2**n_A, 2**n_A), dtype=complex)\n",
    "    for j in range(2**n_B): # tr^B(p) = sum_j (I^A @ <j|) p (I^A @ |j>)\n",
    "        kj, bj = basis(j, n_B), basis(j, n_B, True)\n",
    "        t += np.kron(np.eye(2**n_A), bj) @ rho_state @ np.kron(np.eye(2**n_A), kj)\n",
    "    return t\n",
    "\n",
    "def s_rank(state, n_A=None, n_B=None): #n_A = number of A's qubits, etc\n",
    "    if n_A is None and n_B is None: #make half split\n",
    "        n_A = n_B = int(np.log2(state.shape[0]))//2\n",
    "    if state.shape[1] == 2:\n",
    "        state = state[:, 1] # if accidentally given controlled state, just choose 2nd column\n",
    "    assert state.shape == (2**(n_A + n_B), 1), (\"wrong sizes\", n_A, n_B, state.shape)\n",
    "    \n",
    "    psi_A = partial_trace_B(state, n_A, n_B)\n",
    "    return np.linalg.matrix_rank(psi_A)"
   ]
  },
  {
   "cell_type": "code",
   "execution_count": 3,
   "id": "commercial-dressing",
   "metadata": {},
   "outputs": [
    {
     "data": {
      "text/plain": [
       "(array([[1.+0.j, 0.+0.j],\n",
       "        [0.+0.j, 1.+0.j]]),\n",
       " 2)"
      ]
     },
     "execution_count": 3,
     "metadata": {},
     "output_type": "execute_result"
    }
   ],
   "source": [
    "bell = np.array([[1, 0, 0, 1]]).transpose()\n",
    "partial_trace_B(bell, 1, 1), s_rank(bell, 1, 1)"
   ]
  },
  {
   "cell_type": "code",
   "execution_count": 4,
   "id": "global-merchant",
   "metadata": {},
   "outputs": [
    {
     "data": {
      "text/plain": [
       "1"
      ]
     },
     "execution_count": 4,
     "metadata": {},
     "output_type": "execute_result"
    }
   ],
   "source": [
    "product_state = basis(3, 2)\n",
    "s_rank(product_state, 1, 1)"
   ]
  },
  {
   "cell_type": "code",
   "execution_count": 5,
   "id": "coordinated-suspect",
   "metadata": {},
   "outputs": [
    {
     "data": {
      "text/plain": [
       "2"
      ]
     },
     "execution_count": 5,
     "metadata": {},
     "output_type": "execute_result"
    }
   ],
   "source": [
    "n = 3\n",
    "rand_state = np.random.randint(-1, 2, (2**n, 1))\n",
    "s_rank(rand_state, 2, 1)"
   ]
  },
  {
   "cell_type": "markdown",
   "id": "tamil-prototype",
   "metadata": {},
   "source": [
    "## Poly rank\n",
    "\n",
    "Will represent the polynomial for a bipartite state $|\\psi_{AB}\\rangle$ as $p(x_1, ..., x_n, y_1, ..., y_m)$ where $x$ variables correspond to $A$ and $y$ variables correspond to $B$. \n",
    "\n",
    "Bipartite state $\\psi_{AB}$ is seperable iff $p_\\psi = p(x_1, ..., x_n) \\times q(y_1, ..., y_m)$. \n",
    "\n",
    "The following code implements the irreducibile test for seperability:\n",
    "1. Given a state $\\psi_{AB}$, convert to polynomial $p_\\psi$\n",
    "2. Get irreducible factors $f_1, ..., f_k$ of $p_\\psi$\n",
    "3. Return false iff any factor $f_j$ contains both $X$ variables and $Y$ variables"
   ]
  },
  {
   "cell_type": "code",
   "execution_count": 6,
   "id": "continental-midwest",
   "metadata": {},
   "outputs": [],
   "source": [
    "from spiders import W, Z, ZBox, Id, X, Swap, H, boxes\n",
    "from pyfile import eq, eval\n",
    "from polys import get_poly, Poly, symbols\n",
    "import numpy as np\n",
    "coW = cow = W(2, 1, True)"
   ]
  },
  {
   "cell_type": "code",
   "execution_count": 7,
   "id": "decimal-arctic",
   "metadata": {},
   "outputs": [],
   "source": [
    "def is_prod(state, n_A=None, n_B=None):\n",
    "    if n_A is None and n_B is None: #make half split\n",
    "        n_A = n_B = int(np.log2(state.shape[0]))//2\n",
    "    assert 2**(n_A + n_B) == state.shape[0], (\"wrong sizes\", n_A, n_B, state.shape)\n",
    "    \n",
    "    \n",
    "    poly = get_poly(state, n_A, n_B) #gets polynomial p_psi\n",
    "    \n",
    "    _, factors = poly.factor_list() #factors into irreducibles\n",
    "    \n",
    "    for f in factors:\n",
    "        #if f has both x's and y's\n",
    "        degrees = f[0].degree_list() #gets list of degrees of f\n",
    "        if np.any(degrees[:n_A]) and np.any(degrees[n_A:]):\n",
    "            return False\n",
    "    return True\n",
    "        "
   ]
  },
  {
   "cell_type": "markdown",
   "id": "informative-theology",
   "metadata": {},
   "source": [
    "Peforms basic sanity check that polynomial seperability test agrees with Schmidt rank test defined above. All states generated with coefficients from $-1, 0, 1$ to avoid floating point errors."
   ]
  },
  {
   "cell_type": "code",
   "execution_count": 8,
   "id": "fossil-charger",
   "metadata": {},
   "outputs": [],
   "source": [
    "n = 4\n",
    "for _ in range(100):\n",
    "    rand_state = np.random.randint(-1, 2, (2**n, 1))\n",
    "    #rand_state = 2 * np.random.rand(2**n, 1) - 1\n",
    "    s = s_rank(rand_state, n//2, n//2)\n",
    "    if is_prod(rand_state) and s == 1:\n",
    "        print(\"✔ both yes\")\n",
    "    elif not is_prod(rand_state) and s != 1:\n",
    "        #print(\"✔ both no\")\n",
    "        pass\n",
    "    else:\n",
    "        print(\"\\n failed on\", rand_state, \"\\n\")"
   ]
  },
  {
   "cell_type": "code",
   "execution_count": null,
   "id": "dramatic-wright",
   "metadata": {},
   "outputs": [],
   "source": []
  },
  {
   "cell_type": "code",
   "execution_count": null,
   "id": "colored-november",
   "metadata": {},
   "outputs": [],
   "source": []
  },
  {
   "cell_type": "markdown",
   "id": "dying-mystery",
   "metadata": {},
   "source": [
    "### Timing analysis\n",
    "\n",
    "Performs some basic numerics on the two algorithms to compare efficiency.\n",
    "\n",
    "For $n=1, ... 7$, generates $k = 25$ bipartite states on $2n$ qubits: product state with probability $p_{sep} = 1/2$, random state (which is probably entangled) with probability 1/2. "
   ]
  },
  {
   "cell_type": "code",
   "execution_count": 9,
   "id": "occupied-blast",
   "metadata": {},
   "outputs": [
    {
     "name": "stdout",
     "output_type": "stream",
     "text": [
      "\n",
      " 1\n",
      "\n",
      " 2\n",
      "\n",
      " 3\n",
      "\n",
      " 4\n",
      "\n",
      " 5\n",
      "0,10,20,\n",
      " 6\n",
      "0,10,20,\n",
      " 7\n",
      "0,10,20,"
     ]
    }
   ],
   "source": [
    "import time\n",
    "import pandas as pd\n",
    "\n",
    "\n",
    "ns = list(range(1, 8))\n",
    "\n",
    "k = 25\n",
    "\n",
    "p_sep = 1/2\n",
    "\n",
    "\n",
    "all_times = {'method': [], 'n': [], 'time': []}\n",
    "\n",
    "for n in ns:\n",
    "    print(\"\\n\", n)\n",
    "    \n",
    "    for i in range(k):\n",
    "        if n > 4 and i % 10 == 0: print(i, end=',')\n",
    "        if np.random.rand() < p_sep:\n",
    "            a_state = np.random.randint(-1, 2, (2**n, 1))\n",
    "            b_state = np.random.randint(-1, 2, (2**n, 1))\n",
    "            rand_state = np.kron(a_state, b_state)\n",
    "        else:\n",
    "            rand_state = np.random.randint(-1, 2, (2**(2*n), 1))\n",
    "            \n",
    "        a = time.time()\n",
    "        s_out = s_rank(rand_state, n, n) <= 1\n",
    "        b = time.time()\n",
    "   \n",
    "        all_times['method'].append('Schmidt')\n",
    "        all_times['n'].append(n)\n",
    "        all_times['time'].append(b-a)\n",
    "        \n",
    "        a2 = time.time()\n",
    "        p_out = is_prod(rand_state, n, n)\n",
    "        b2 = time.time()\n",
    "\n",
    "        \n",
    "        all_times['method'].append('Poly')\n",
    "        all_times['n'].append(n)\n",
    "        all_times['time'].append(b2-a2)\n",
    "        \n",
    "        assert s_out == p_out, (\"gave different answer on\", rand_state)\n"
   ]
  },
  {
   "cell_type": "code",
   "execution_count": 12,
   "id": "scenic-updating",
   "metadata": {},
   "outputs": [
    {
     "data": {
      "text/plain": [
       "Text(0.5, 1.0, 'Timing Comparison of Seperability Algorithms')"
      ]
     },
     "execution_count": 12,
     "metadata": {},
     "output_type": "execute_result"
    },
    {
     "data": {
      "image/png": "[encoded data removed]",
      "text/plain": [
       "<Figure size 720x720 with 1 Axes>"
      ]
     },
     "metadata": {},
     "output_type": "display_data"
    }
   ],
   "source": [
    "import seaborn as sns\n",
    "import matplotlib.pyplot as plt\n",
    "\n",
    "sns.set_style(\"white\")\n",
    "sns.set(rc={'figure.figsize':(10, 10)})\n",
    "df = pd.DataFrame.from_dict(all_times)\n",
    "df['log seconds'] = np.log(df['time'])\n",
    "sns.lineplot(data=df, x=\"n\", y=\"log seconds\", hue='method', marker='o', ci=95)\n",
    "plt.title('Timing Comparison of Seperability Algorithms')\n"
   ]
  },
  {
   "cell_type": "markdown",
   "id": "brief-butterfly",
   "metadata": {},
   "source": [
    "## Analysis\n",
    "\n",
    "* While the Schmidt rank method is initially faster, the polynomial factorisation method seems to have slightly better scaling\n",
    "* Since both algorithms rely on the entire state-vector, they both scale poorly in $n$, with my laptop struggling as low as $n=7$."
   ]
  },
  {
   "cell_type": "code",
   "execution_count": null,
   "id": "noted-python",
   "metadata": {},
   "outputs": [],
   "source": []
  },
  {
   "cell_type": "code",
   "execution_count": null,
   "id": "patient-roulette",
   "metadata": {},
   "outputs": [],
   "source": []
  }
 ],
 "metadata": {
  "kernelspec": {
   "display_name": "Python 3",
   "language": "python",
   "name": "python3"
  },
  "language_info": {
   "codemirror_mode": {
    "name": "ipython",
    "version": 3
   },
   "file_extension": ".py",
   "mimetype": "text/x-python",
   "name": "python",
   "nbconvert_exporter": "python",
   "pygments_lexer": "ipython3",
   "version": "3.8.5"
  }
 },
 "nbformat": 4,
 "nbformat_minor": 5
}
