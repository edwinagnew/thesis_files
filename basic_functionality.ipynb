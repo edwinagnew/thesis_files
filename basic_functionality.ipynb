{
 "cells": [
  {
   "cell_type": "markdown",
   "id": "frequent-mexican",
   "metadata": {},
   "source": [
    "## Diagrams"
   ]
  },
  {
   "cell_type": "markdown",
   "id": "unusual-appliance",
   "metadata": {},
   "source": [
    "This notebook reviews the basic functionality of the code I have developed. The core methods are all in `spiders.py` which extends discopy to define the Z,W and X spiders.\n",
    "\n",
    "They can be imported as follows:"
   ]
  },
  {
   "cell_type": "code",
   "execution_count": 1,
   "id": "going-netscape",
   "metadata": {},
   "outputs": [],
   "source": [
    "from spiders import W, ZBox, Z, X"
   ]
  },
  {
   "cell_type": "markdown",
   "id": "ignored-teach",
   "metadata": {},
   "source": [
    "Spiders can be built and plugged together as follows. `@` stands for $\\otimes$ and `>>` stands for $\\circ$"
   ]
  },
  {
   "cell_type": "code",
   "execution_count": 2,
   "id": "electric-scholar",
   "metadata": {},
   "outputs": [
    {
     "data": {
      "image/png": "[encoded data removed]",
      "text/plain": [
       "<Figure size 432x288 with 1 Axes>"
      ]
     },
     "metadata": {},
     "output_type": "display_data"
    }
   ],
   "source": [
    "diag = W(1, 3) >> ZBox(1, 0, 2) @ ZBox(1, 1, -1) @ ZBox(1, 2, 3)\n",
    "diag.draw()"
   ]
  },
  {
   "cell_type": "markdown",
   "id": "altered-amsterdam",
   "metadata": {},
   "source": [
    "Identity wires and swaps must be imported seperately."
   ]
  },
  {
   "cell_type": "code",
   "execution_count": 3,
   "id": "exact-patch",
   "metadata": {},
   "outputs": [
    {
     "data": {
      "image/png": "[encoded data removed]",
      "text/plain": [
       "<Figure size 432x288 with 1 Axes>"
      ]
     },
     "metadata": {},
     "output_type": "display_data"
    }
   ],
   "source": [
    "from spiders import Id, Swap\n",
    "\n",
    "diag >>= Swap @ Id(1)\n",
    "diag.draw()"
   ]
  },
  {
   "cell_type": "markdown",
   "id": "behind-handy",
   "metadata": {},
   "source": [
    "To evaluate or compare diagrams, import `eval` and `eq` from `pyfile.py`. \n",
    "\n",
    "`discopy.drawing` can be used to format diagrams more nicely"
   ]
  },
  {
   "cell_type": "code",
   "execution_count": 4,
   "id": "scenic-siemens",
   "metadata": {},
   "outputs": [
    {
     "data": {
      "text/plain": [
       "array([[ 1.+0.j,  2.+0.j],\n",
       "       [ 0.+0.j,  0.+0.j],\n",
       "       [ 0.+0.j, -1.+0.j],\n",
       "       [ 0.+0.j,  0.+0.j],\n",
       "       [ 0.+0.j,  0.+0.j],\n",
       "       [ 0.+0.j,  3.+0.j],\n",
       "       [ 0.+0.j,  0.+0.j],\n",
       "       [ 0.+0.j,  0.+0.j]])"
      ]
     },
     "execution_count": 4,
     "metadata": {},
     "output_type": "execute_result"
    }
   ],
   "source": [
    "from pyfile import eval, eq\n",
    "eval(diag)"
   ]
  },
  {
   "cell_type": "code",
   "execution_count": 5,
   "id": "primary-reproduction",
   "metadata": {},
   "outputs": [
    {
     "data": {
      "image/png": "[encoded data removed]",
      "text/plain": [
       "<Figure size 432x288 with 1 Axes>"
      ]
     },
     "metadata": {},
     "output_type": "display_data"
    }
   ],
   "source": [
    "from discopy.drawing import Equation\n",
    "\n",
    "bzw1 = Z(2, 1) >> W(1, 2)\n",
    "bzw2 = W(1, 2) @ W(1, 2) >> Id(1) @ Swap @ Id(1) >> Z(2, 1) @ Z(2, 1)\n",
    "assert eq(bzw1, bzw2)\n",
    "Equation(bzw1, bzw2).draw()\n"
   ]
  },
  {
   "cell_type": "code",
   "execution_count": null,
   "id": "vietnamese-context",
   "metadata": {},
   "outputs": [],
   "source": []
  },
  {
   "cell_type": "markdown",
   "id": "standing-message",
   "metadata": {},
   "source": [
    "## Polynomials\n",
    "\n",
    "The code below takes a statevector $\\psi = \\begin{bmatrix}a_0 \\\\ a_1 \\\\ ... \\\\ a_{2^n-1} \\end{bmatrix}$ and writes it as a polynomial $a_0 + a_1x_n + ... a_{2^n-1}x_1x_2...x_n$. By default, it assumes a bipartite state between A and B with $n_A = n_B$, however this can be parameterised."
   ]
  },
  {
   "cell_type": "code",
   "execution_count": 6,
   "id": "conceptual-campaign",
   "metadata": {},
   "outputs": [
    {
     "data": {
      "text/latex": [
       "$\\displaystyle \\operatorname{Poly}{\\left( 1.0 x_{0}x_{1} + 1.0, x_{0}, x_{1}, domain=\\mathbb{R} \\right)}$"
      ],
      "text/plain": [
       "Poly(1.0*x_0*x_1 + 1.0, x_0, x_1, domain='RR')"
      ]
     },
     "execution_count": 6,
     "metadata": {},
     "output_type": "execute_result"
    }
   ],
   "source": [
    "from polys import get_poly\n",
    "\n",
    "bell_state = eval(Z(0, 2))\n",
    "bell_poly = get_poly(bell_state, n_A=2)\n",
    "bell_poly"
   ]
  },
  {
   "cell_type": "code",
   "execution_count": 10,
   "id": "unsigned-centre",
   "metadata": {},
   "outputs": [
    {
     "data": {
      "text/latex": [
       "$\\displaystyle \\operatorname{Poly}{\\left( 1.0 x_{0}y_{0} + 1.0, x_{0}, y_{0}, domain=\\mathbb{R} \\right)}$"
      ],
      "text/plain": [
       "Poly(1.0*x_0*y_0 + 1.0, x_0, y_0, domain='RR')"
      ]
     },
     "execution_count": 10,
     "metadata": {},
     "output_type": "execute_result"
    }
   ],
   "source": [
    "bell_poly_bipartite = get_poly(bell_state)\n",
    "bell_poly_bipartite"
   ]
  },
  {
   "cell_type": "code",
   "execution_count": null,
   "id": "above-public",
   "metadata": {},
   "outputs": [],
   "source": []
  },
  {
   "cell_type": "markdown",
   "id": "published-amount",
   "metadata": {},
   "source": [
    "Polynomials can easily be factored, evaluated and subsituted in `sympy`"
   ]
  },
  {
   "cell_type": "code",
   "execution_count": 11,
   "id": "otherwise-hamburg",
   "metadata": {},
   "outputs": [
    {
     "data": {
      "text/plain": [
       "(1.00000000000000,\n",
       " [(Poly(1.0*y_0*y_1 + 1.0, x_0, x_1, y_0, y_1, domain='RR'), 1),\n",
       "  (Poly(1.0*x_0*x_1 + 1.0, x_0, x_1, y_0, y_1, domain='RR'), 1)])"
      ]
     },
     "execution_count": 11,
     "metadata": {},
     "output_type": "execute_result"
    }
   ],
   "source": [
    "bellbell = get_poly(eval(Z(0, 2) @ Z(0, 2)))\n",
    "bellbell.factor_list()"
   ]
  },
  {
   "cell_type": "code",
   "execution_count": 17,
   "id": "coordinate-syria",
   "metadata": {},
   "outputs": [
    {
     "data": {
      "text/latex": [
       "$\\displaystyle \\operatorname{Poly}{\\left( 2.0 y_{1} + 2.0, y_{1}, domain=\\mathbb{R} \\right)}$"
      ],
      "text/plain": [
       "Poly(2.0*y_1 + 2.0, y_1, domain='RR')"
      ]
     },
     "execution_count": 17,
     "metadata": {},
     "output_type": "execute_result"
    }
   ],
   "source": [
    "bellbell(1, 1, 1)"
   ]
  },
  {
   "cell_type": "code",
   "execution_count": 16,
   "id": "seven-skating",
   "metadata": {},
   "outputs": [
    {
     "data": {
      "text/latex": [
       "$\\displaystyle 1.0 x_{0}^{2} x_{1} y_{1} + 1.0 x_{0} x_{1} + 1.0 x_{0} y_{1} + 1.0$"
      ],
      "text/plain": [
       "1.0*x_0**2*x_1*y_1 + 1.0*x_0*x_1 + 1.0*x_0*y_1 + 1.0"
      ]
     },
     "execution_count": 16,
     "metadata": {},
     "output_type": "execute_result"
    }
   ],
   "source": [
    "from sympy import symbols\n",
    "x0, y0 = symbols('x_0, y_0,')\n",
    "bellbell.subs(y0, x0)"
   ]
  },
  {
   "cell_type": "code",
   "execution_count": null,
   "id": "certain-saturday",
   "metadata": {},
   "outputs": [],
   "source": []
  }
 ],
 "metadata": {
  "kernelspec": {
   "display_name": "Python 3",
   "language": "python",
   "name": "python3"
  },
  "language_info": {
   "codemirror_mode": {
    "name": "ipython",
    "version": 3
   },
   "file_extension": ".py",
   "mimetype": "text/x-python",
   "name": "python",
   "nbconvert_exporter": "python",
   "pygments_lexer": "ipython3",
   "version": "3.8.5"
  }
 },
 "nbformat": 4,
 "nbformat_minor": 5
}
